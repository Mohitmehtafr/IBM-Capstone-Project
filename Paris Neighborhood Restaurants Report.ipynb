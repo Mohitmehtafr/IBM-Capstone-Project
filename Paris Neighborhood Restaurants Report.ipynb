{
    "nbformat_minor": 1, 
    "cells": [
        {
            "source": "# Introduction/Business Problem", 
            "cell_type": "markdown", 
            "metadata": {
                "collapsed": true
            }
        }, 
        {
            "source": "Recently, a friend told me that he is bored of his 9 to 5 job and he has decided to open up a restaurant in Paris. But Paris, being a big city could be perplexing to choose the right area and also the right cuisine. So by leveraging the power of data science I am going to help him answer in which area should he open his restaurant and of which cuisine?\n\nI will answer the following 3 questions: \n\n1> What is the geographic distribution of the restaurants in Paris which could help us to find which area is least served?\n\n2> Which restaurant cuisines dominate which areas giving us insights on which cuisine restaurant should we open?\n\n3> Try to see if there is any pattern emerging in our restaurants' data? (for this I have used machine learning algorithm - KNN) \n\nBesides this we will also analyze Paris from the standpoint of population, population density to give an idea of the demand of the restaurant in a neighborhood. \n\n", 
            "cell_type": "markdown", 
            "metadata": {}
        }, 
        {
            "source": "# Data", 
            "cell_type": "markdown", 
            "metadata": {}
        }, 
        {
            "source": "I pulled the Paris arrondisement (neihgborhood) data from wikipedia. In addition to arrondisement names, I also pulled the size and population data for descriptive analysis. In Paris every arrondisement has a name, but more poplularly, arrondisements are called by numbers. say \"Eiffel tower is in 7th arrondisement\". \n\nThe wikipedia data did not have the geolocation data, so I  used Nominatim library to generate the geocordiantes. \n\nFurther, for each arrondisement, I pulled the restaurants data from Foursquare API. The geolocation data of the restaurant and the type of cuisine. Foursquare returns the top 100 listings for a given geolocation point. For example, when I send data (2.338028 \t48.861147) longitude & latitude of arrondisement 1, Foursquare returns the top 100 restaurants in that region within a radius of 2.5Km. \n ", 
            "cell_type": "markdown", 
            "metadata": {}
        }, 
        {
            "execution_count": null, 
            "cell_type": "code", 
            "metadata": {}, 
            "outputs": [], 
            "source": ""
        }
    ], 
    "metadata": {
        "kernelspec": {
            "display_name": "Python 3.6", 
            "name": "python3", 
            "language": "python"
        }, 
        "language_info": {
            "mimetype": "text/x-python", 
            "nbconvert_exporter": "python", 
            "version": "3.6.8", 
            "name": "python", 
            "file_extension": ".py", 
            "pygments_lexer": "ipython3", 
            "codemirror_mode": {
                "version": 3, 
                "name": "ipython"
            }
        }
    }, 
    "nbformat": 4
}