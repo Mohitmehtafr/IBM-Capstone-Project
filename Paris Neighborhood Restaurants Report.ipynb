{
    "nbformat_minor": 1, 
    "cells": [
        {
            "source": "# Introduction/Business Problem", 
            "cell_type": "markdown", 
            "metadata": {
                "collapsed": true
            }
        }, 
        {
            "source": "Recently, a friend told me that he is bored of his 9 to 5 job and he has decided to open up a restaurant in Paris. But Paris, being a big city could be perplexing to choose the right area and also the right cuisine. So by leveraging the power of data science I am going to help him answer in which area should he open his restaurant and of which cuisine?\n\nI will answer the following 3 questions: \n\n1> What is the geographic distribution of the restaurants in Paris which could help us to find which area is least served?\n\n2> Which restaurant cuisines dominate which areas giving us insights on which cuisine restaurant should we open?\n\n3> Try to see if there is any pattern emerging in our restaurants' data? (for this I have used machine learning algorithm - KNN) \n\nBesides this I will also analyze Paris from the standpoint of population, population density to give an idea of the demand of the restaurant in a neighborhood. \n\n", 
            "cell_type": "markdown", 
            "metadata": {}
        }, 
        {
            "source": "# Data", 
            "cell_type": "markdown", 
            "metadata": {}
        }, 
        {
            "source": "I pulled the Paris arrondisement (neihgborhood) data from wikipedia. In addition to arrondisement names, I also pulled the size and population data for descriptive analysis. In Paris every arrondisement has a name, but more poplularly, arrondisements are called by numbers. say \"Eiffel tower is in 7th arrondisement\". \n\nThe wikipedia data did not have the geolocation data, so I  used Nominatim library to generate the geocordiantes. \n\nFurther, for each arrondisement, I pulled the restaurants data from Foursquare API. The geolocation data of the restaurant and the type of cuisine. Foursquare returns the top 100 listings for a given geolocation point. \n\nFor example, when I send data (2.338028, 48.861147) longitude & latitude of arrondisement 1, Foursquare returns the top 100 restaurants in around this point within a radius of 2.5Km. \n ", 
            "cell_type": "markdown", 
            "metadata": {}
        }, 
        {
            "source": "# Methodology\n", 
            "cell_type": "markdown", 
            "metadata": {}
        }, 
        {
            "source": "#### Importing Paris Neighborhood Data\n\nI first imported the table from wikipedia. We could have use the dedicated package \"BeautifulSoup\" to scrap the table. But as I need to scrap only one table it could be done reasonably well with Python in-built function \"read_HTML\".\n\nAfter that I have dropped the columns like \"mayor\", \"peak of population\" etc. as I wont be using them in our analysis. Further, to make the data handling easier, I have renamed some of the columns. For example renamed \"\"Population(July 2005 estimate)\" to only \"Population\". \n\nAs the next step we need to find the geolocation data (latitude, Longitude) for the Paris Arrondisements (neighborhoods). For this, easier way could have been the search the internet. But that approach is not scalable. Python offers a very handy package \"Nominatim\" which gives the geolocation data for a given address. I have used it to generate the geolocation data for each Paris arrondisement. \n\n#### Exploratory Analsyis\n\nVisualization can always be a good way to do the exploratory data anlysis. I have used \"Folium\" library to plot the Arronidisements on Paris map. Similarly, I am plotting Population Density on the map which will further give us an idea of the attrativeness of the neighborhood to open up a restaurant. \n\n#### Importing the restaurants data from Foursquare\nI have used Foursquare API \"Venues/explore\". It's basic account is free and sufficient for our usage. it allows us to perform 20000 record queries daily. \n\nWe send the Latitude & Longitude data and it responds with the top restaurants within a Radius specified. I have extracted the \"Venue Category\", \"Latitude\" and \"Longitude\" from the API response. I have chosen radius of 2.5Km.Further, we have visualized these restaurants on map. \n\nThere are a number of duplicates in the venue category. For example \"sushi restaurant\" and \"japanese restaurants\" have been listed separately. Based on domain knowledge, I have merged these two into one category of \"japanese restaurant\". I am also dropping off the venue categories like \"Bistro\" \"Bar\" which do not come under any category. We see that the \"French Restaurant\" has the highest number of restaurants followed bu Italian. \n\nI have also plotted the top restaurants in each arrondisment. This would give us the top performing restaurants which we must visit and emulate the best practices.\n\n#### One-hot coding \nMostly, without an exception, all the Machine Learning algorithms take only the numerical data as input. Here the challenge is our data say \"Venue Category\" is categorical in nature. To byepass that, Python has a powerful function \"Get_dummies\" which transposes each value in the categorical data into a separate column. \n\n#### Top venues in each arrondisement\nNext I will find out the top venues in each of arrondisemnt. For the sake of simplicity, I am focusing on the top 10 restaurants in each arrondisement. \n\n#### Clustering the data\nI will use the K-means machine learning algorithm which is one the most easy to understand segmentation algorithm. We use segmentation algorithm in a number of business situtions. For example, to segment the customers, to segment movies etc. \n\n#### K-means algorithm\nConceputally, this algorithm is rather straightforward. We plot the data in multi-dimensional space. We specify K to the alorithm. The algorithm randomly chooses K centroid points in the data. Then distance of each point from these centroid points is calculated. The point whith the least distance from a centroid is allocated to that centroid. Our aim to minimize the sum of the points from their respective centroids. We keep on iterating over different centroid points till we changing the centroid points do not change the distance. \n\n\nideally we should have implemented it for different K and see which segment groups make the most sense. But for the sake of simplicity, I have choose arbitrarily K as 4. THen we plot these 4 clusters on the map. I have then anlayzed the clusters to see if there is an emerging pattern. \n", 
            "cell_type": "markdown", 
            "metadata": {}
        }, 
        {
            "source": "# Results\n\nIn terms of population, the outer arrondisments have much higher population which would have given impression that those are more attractive to open up the restaurant. The 15th arrondisement has the highest population. However, when we see the population denistiy, 15th arrondisement is fairly less populated while arrondisement 11th is the most densely populated. 13th, 11th and 20th are both with fairly high population and fairly high population density and hence should be our target areas. \n\nWe see that 'Les Embruns' restaurant is very popular in 11th. 'Chez Trassoudaine' is very popular in 13th. We must go visit these restaurants to see their practices. Next we see that for 13th arrondisement, French restaurants are the most visited places followed by Korean/Thai/chinese/Vietnamese. While both in 11th and 20th arrondisements it's French followed by Italian. \n\nAs the next step, we see the number of restaurants of each category already there in these areas. While 11th and 20th have more French & Italian restaurants, 13th Arrondisement has more french & Chinese/thai/vietnamese restaurants.\n\n\n\n", 
            "cell_type": "markdown", 
            "metadata": {}
        }, 
        {
            "source": "# Conclusion\n\nFrom the above analysis We see that there is large population and population density in arrondisments 20th and 13th. However, there are not as many chinese/thai/vietnamese restaurants. So opening that cuisine in this region seems attractive. However, it needs to be added that my analysis focused only from the prespective of restaurant availability for the population. But many other factors like - demographic profile of arrondisement, proper rents \n", 
            "cell_type": "markdown", 
            "metadata": {}
        }, 
        {
            "execution_count": null, 
            "cell_type": "code", 
            "metadata": {}, 
            "outputs": [], 
            "source": ""
        }
    ], 
    "metadata": {
        "kernelspec": {
            "display_name": "Python 3.6", 
            "name": "python3", 
            "language": "python"
        }, 
        "language_info": {
            "mimetype": "text/x-python", 
            "nbconvert_exporter": "python", 
            "version": "3.6.8", 
            "name": "python", 
            "file_extension": ".py", 
            "pygments_lexer": "ipython3", 
            "codemirror_mode": {
                "version": 3, 
                "name": "ipython"
            }
        }
    }, 
    "nbformat": 4
}